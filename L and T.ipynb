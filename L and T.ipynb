{
 "cells": [
  {
   "cell_type": "code",
   "execution_count": 411,
   "metadata": {},
   "outputs": [],
   "source": [
    "import pandas as pd\n",
    "import numpy as np\n",
    "import matplotlib.pyplot as plt\n",
    "import lightgbm as lgb"
   ]
  },
  {
   "cell_type": "code",
   "execution_count": 412,
   "metadata": {},
   "outputs": [],
   "source": [
    "train=pd.read_csv(\"train.csv\")"
   ]
  },
  {
   "cell_type": "code",
   "execution_count": 413,
   "metadata": {},
   "outputs": [
    {
     "data": {
      "text/plain": [
       "(233154, 41)"
      ]
     },
     "execution_count": 413,
     "metadata": {},
     "output_type": "execute_result"
    }
   ],
   "source": [
    "train.shape"
   ]
  },
  {
   "cell_type": "code",
   "execution_count": 414,
   "metadata": {},
   "outputs": [
    {
     "data": {
      "text/html": [
       "<div>\n",
       "<style scoped>\n",
       "    .dataframe tbody tr th:only-of-type {\n",
       "        vertical-align: middle;\n",
       "    }\n",
       "\n",
       "    .dataframe tbody tr th {\n",
       "        vertical-align: top;\n",
       "    }\n",
       "\n",
       "    .dataframe thead th {\n",
       "        text-align: right;\n",
       "    }\n",
       "</style>\n",
       "<table border=\"1\" class=\"dataframe\">\n",
       "  <thead>\n",
       "    <tr style=\"text-align: right;\">\n",
       "      <th></th>\n",
       "      <th>UniqueID</th>\n",
       "      <th>disbursed_amount</th>\n",
       "      <th>asset_cost</th>\n",
       "      <th>ltv</th>\n",
       "      <th>branch_id</th>\n",
       "      <th>supplier_id</th>\n",
       "      <th>manufacturer_id</th>\n",
       "      <th>Current_pincode_ID</th>\n",
       "      <th>Date.of.Birth</th>\n",
       "      <th>Employment.Type</th>\n",
       "      <th>...</th>\n",
       "      <th>SEC.SANCTIONED.AMOUNT</th>\n",
       "      <th>SEC.DISBURSED.AMOUNT</th>\n",
       "      <th>PRIMARY.INSTAL.AMT</th>\n",
       "      <th>SEC.INSTAL.AMT</th>\n",
       "      <th>NEW.ACCTS.IN.LAST.SIX.MONTHS</th>\n",
       "      <th>DELINQUENT.ACCTS.IN.LAST.SIX.MONTHS</th>\n",
       "      <th>AVERAGE.ACCT.AGE</th>\n",
       "      <th>CREDIT.HISTORY.LENGTH</th>\n",
       "      <th>NO.OF_INQUIRIES</th>\n",
       "      <th>loan_default</th>\n",
       "    </tr>\n",
       "  </thead>\n",
       "  <tbody>\n",
       "    <tr>\n",
       "      <th>0</th>\n",
       "      <td>420825</td>\n",
       "      <td>50578</td>\n",
       "      <td>58400</td>\n",
       "      <td>89.55</td>\n",
       "      <td>67</td>\n",
       "      <td>22807</td>\n",
       "      <td>45</td>\n",
       "      <td>1441</td>\n",
       "      <td>01-01-84</td>\n",
       "      <td>Salaried</td>\n",
       "      <td>...</td>\n",
       "      <td>0</td>\n",
       "      <td>0</td>\n",
       "      <td>0</td>\n",
       "      <td>0</td>\n",
       "      <td>0</td>\n",
       "      <td>0</td>\n",
       "      <td>0yrs 0mon</td>\n",
       "      <td>0yrs 0mon</td>\n",
       "      <td>0</td>\n",
       "      <td>0</td>\n",
       "    </tr>\n",
       "    <tr>\n",
       "      <th>1</th>\n",
       "      <td>537409</td>\n",
       "      <td>47145</td>\n",
       "      <td>65550</td>\n",
       "      <td>73.23</td>\n",
       "      <td>67</td>\n",
       "      <td>22807</td>\n",
       "      <td>45</td>\n",
       "      <td>1502</td>\n",
       "      <td>31-07-85</td>\n",
       "      <td>Self employed</td>\n",
       "      <td>...</td>\n",
       "      <td>0</td>\n",
       "      <td>0</td>\n",
       "      <td>1991</td>\n",
       "      <td>0</td>\n",
       "      <td>0</td>\n",
       "      <td>1</td>\n",
       "      <td>1yrs 11mon</td>\n",
       "      <td>1yrs 11mon</td>\n",
       "      <td>0</td>\n",
       "      <td>1</td>\n",
       "    </tr>\n",
       "    <tr>\n",
       "      <th>2</th>\n",
       "      <td>417566</td>\n",
       "      <td>53278</td>\n",
       "      <td>61360</td>\n",
       "      <td>89.63</td>\n",
       "      <td>67</td>\n",
       "      <td>22807</td>\n",
       "      <td>45</td>\n",
       "      <td>1497</td>\n",
       "      <td>24-08-85</td>\n",
       "      <td>Self employed</td>\n",
       "      <td>...</td>\n",
       "      <td>0</td>\n",
       "      <td>0</td>\n",
       "      <td>0</td>\n",
       "      <td>0</td>\n",
       "      <td>0</td>\n",
       "      <td>0</td>\n",
       "      <td>0yrs 0mon</td>\n",
       "      <td>0yrs 0mon</td>\n",
       "      <td>0</td>\n",
       "      <td>0</td>\n",
       "    </tr>\n",
       "    <tr>\n",
       "      <th>3</th>\n",
       "      <td>624493</td>\n",
       "      <td>57513</td>\n",
       "      <td>66113</td>\n",
       "      <td>88.48</td>\n",
       "      <td>67</td>\n",
       "      <td>22807</td>\n",
       "      <td>45</td>\n",
       "      <td>1501</td>\n",
       "      <td>30-12-93</td>\n",
       "      <td>Self employed</td>\n",
       "      <td>...</td>\n",
       "      <td>0</td>\n",
       "      <td>0</td>\n",
       "      <td>31</td>\n",
       "      <td>0</td>\n",
       "      <td>0</td>\n",
       "      <td>0</td>\n",
       "      <td>0yrs 8mon</td>\n",
       "      <td>1yrs 3mon</td>\n",
       "      <td>1</td>\n",
       "      <td>1</td>\n",
       "    </tr>\n",
       "    <tr>\n",
       "      <th>4</th>\n",
       "      <td>539055</td>\n",
       "      <td>52378</td>\n",
       "      <td>60300</td>\n",
       "      <td>88.39</td>\n",
       "      <td>67</td>\n",
       "      <td>22807</td>\n",
       "      <td>45</td>\n",
       "      <td>1495</td>\n",
       "      <td>09-12-77</td>\n",
       "      <td>Self employed</td>\n",
       "      <td>...</td>\n",
       "      <td>0</td>\n",
       "      <td>0</td>\n",
       "      <td>0</td>\n",
       "      <td>0</td>\n",
       "      <td>0</td>\n",
       "      <td>0</td>\n",
       "      <td>0yrs 0mon</td>\n",
       "      <td>0yrs 0mon</td>\n",
       "      <td>1</td>\n",
       "      <td>1</td>\n",
       "    </tr>\n",
       "  </tbody>\n",
       "</table>\n",
       "<p>5 rows × 41 columns</p>\n",
       "</div>"
      ],
      "text/plain": [
       "   UniqueID  disbursed_amount  asset_cost    ltv  branch_id  supplier_id  \\\n",
       "0    420825             50578       58400  89.55         67        22807   \n",
       "1    537409             47145       65550  73.23         67        22807   \n",
       "2    417566             53278       61360  89.63         67        22807   \n",
       "3    624493             57513       66113  88.48         67        22807   \n",
       "4    539055             52378       60300  88.39         67        22807   \n",
       "\n",
       "   manufacturer_id  Current_pincode_ID Date.of.Birth Employment.Type  \\\n",
       "0               45                1441      01-01-84        Salaried   \n",
       "1               45                1502      31-07-85   Self employed   \n",
       "2               45                1497      24-08-85   Self employed   \n",
       "3               45                1501      30-12-93   Self employed   \n",
       "4               45                1495      09-12-77   Self employed   \n",
       "\n",
       "       ...      SEC.SANCTIONED.AMOUNT  SEC.DISBURSED.AMOUNT  \\\n",
       "0      ...                          0                     0   \n",
       "1      ...                          0                     0   \n",
       "2      ...                          0                     0   \n",
       "3      ...                          0                     0   \n",
       "4      ...                          0                     0   \n",
       "\n",
       "   PRIMARY.INSTAL.AMT  SEC.INSTAL.AMT  NEW.ACCTS.IN.LAST.SIX.MONTHS  \\\n",
       "0                   0               0                             0   \n",
       "1                1991               0                             0   \n",
       "2                   0               0                             0   \n",
       "3                  31               0                             0   \n",
       "4                   0               0                             0   \n",
       "\n",
       "   DELINQUENT.ACCTS.IN.LAST.SIX.MONTHS  AVERAGE.ACCT.AGE  \\\n",
       "0                                    0         0yrs 0mon   \n",
       "1                                    1        1yrs 11mon   \n",
       "2                                    0         0yrs 0mon   \n",
       "3                                    0         0yrs 8mon   \n",
       "4                                    0         0yrs 0mon   \n",
       "\n",
       "   CREDIT.HISTORY.LENGTH  NO.OF_INQUIRIES  loan_default  \n",
       "0              0yrs 0mon                0             0  \n",
       "1             1yrs 11mon                0             1  \n",
       "2              0yrs 0mon                0             0  \n",
       "3              1yrs 3mon                1             1  \n",
       "4              0yrs 0mon                1             1  \n",
       "\n",
       "[5 rows x 41 columns]"
      ]
     },
     "execution_count": 414,
     "metadata": {},
     "output_type": "execute_result"
    }
   ],
   "source": [
    "train.head()"
   ]
  },
  {
   "cell_type": "code",
   "execution_count": 415,
   "metadata": {},
   "outputs": [],
   "source": [
    "train=train[train[\"PERFORM_CNS.SCORE.DESCRIPTION\"]!=\"Not Scored: More than 50 active Accounts found\"]"
   ]
  },
  {
   "cell_type": "code",
   "execution_count": 416,
   "metadata": {},
   "outputs": [
    {
     "data": {
      "text/plain": [
       "(233151, 41)"
      ]
     },
     "execution_count": 416,
     "metadata": {},
     "output_type": "execute_result"
    }
   ],
   "source": [
    "train.shape"
   ]
  },
  {
   "cell_type": "code",
   "execution_count": 417,
   "metadata": {},
   "outputs": [
    {
     "data": {
      "text/plain": [
       "7661"
      ]
     },
     "execution_count": 417,
     "metadata": {},
     "output_type": "execute_result"
    }
   ],
   "source": [
    "train[\"Employment.Type\"].isnull().sum()"
   ]
  },
  {
   "cell_type": "code",
   "execution_count": 418,
   "metadata": {},
   "outputs": [
    {
     "data": {
      "text/plain": [
       "UniqueID                 0\n",
       "disbursed_amount         0\n",
       "asset_cost               0\n",
       "ltv                      0\n",
       "branch_id                0\n",
       "supplier_id              0\n",
       "manufacturer_id          0\n",
       "Current_pincode_ID       0\n",
       "Date.of.Birth            0\n",
       "Employment.Type       7661\n",
       "dtype: int64"
      ]
     },
     "execution_count": 418,
     "metadata": {},
     "output_type": "execute_result"
    }
   ],
   "source": [
    "train.isnull().sum().head(10)"
   ]
  },
  {
   "cell_type": "code",
   "execution_count": 419,
   "metadata": {},
   "outputs": [],
   "source": [
    "train[\"Employment.Type\"]=train[\"Employment.Type\"].map({\"Self employed\":0,\"Salaried\":1})"
   ]
  },
  {
   "cell_type": "code",
   "execution_count": 421,
   "metadata": {},
   "outputs": [
    {
     "data": {
      "text/plain": [
       "<matplotlib.axes._subplots.AxesSubplot at 0x2268c8c7978>"
      ]
     },
     "execution_count": 421,
     "metadata": {},
     "output_type": "execute_result"
    },
    {
     "data": {
      "image/png": "[encoded data removed]",
      "text/plain": [
       "<Figure size 432x288 with 1 Axes>"
      ]
     },
     "metadata": {
      "needs_background": "light"
     },
     "output_type": "display_data"
    }
   ],
   "source": [
    "train[\"Employment.Type\"].value_counts().plot(kind=\"bar\")"
   ]
  },
  {
   "cell_type": "code",
   "execution_count": 422,
   "metadata": {},
   "outputs": [
    {
     "data": {
      "text/plain": [
       "<matplotlib.axes._subplots.AxesSubplot at 0x2268c913e10>"
      ]
     },
     "execution_count": 422,
     "metadata": {},
     "output_type": "execute_result"
    },
    {
     "data": {
      "image/png": "[encoded data removed]",
      "text/plain": [
       "<Figure size 432x288 with 1 Axes>"
      ]
     },
     "metadata": {
      "needs_background": "light"
     },
     "output_type": "display_data"
    }
   ],
   "source": [
    "pd.crosstab(train[\"Employment.Type\"],train[\"loan_default\"]).plot(kind=\"bar\")"
   ]
  },
  {
   "cell_type": "code",
   "execution_count": 423,
   "metadata": {},
   "outputs": [
    {
     "data": {
      "text/plain": [
       "2953"
      ]
     },
     "execution_count": 423,
     "metadata": {},
     "output_type": "execute_result"
    }
   ],
   "source": [
    "len(train[\"supplier_id\"].unique())"
   ]
  },
  {
   "cell_type": "code",
   "execution_count": 424,
   "metadata": {},
   "outputs": [
    {
     "data": {
      "text/plain": [
       "array([ 45,  86,  48,  51, 120,  49, 145,  67, 153, 156, 152], dtype=int64)"
      ]
     },
     "execution_count": 424,
     "metadata": {},
     "output_type": "execute_result"
    }
   ],
   "source": [
    "train[\"manufacturer_id\"].unique()"
   ]
  },
  {
   "cell_type": "markdown",
   "metadata": {},
   "source": [
    "def mapy(x):\n",
    "    a=[]\n",
    "    x.split(\" \")\n",
    "    for i in x:\n",
    "        a.append(i)\n",
    "    #return(12*int(a[0])+int(a[5])) \n",
    "    return(a)"
   ]
  },
  {
   "cell_type": "code",
   "execution_count": 1,
   "metadata": {},
   "outputs": [],
   "source": [
    "def mapp(x):\n",
    "    g=x.split(\" \")\n",
    "    a=[]\n",
    "    b=[]\n",
    "    for i in g:\n",
    "        a.append(i)\n",
    "    x.split(\" \")   \n",
    "    for j in x:\n",
    "        b.append(j) \n",
    "    if(len(a[0])==4 and len(a[1])==4):\n",
    "        return(12*int(b[0])+int(b[5]))\n",
    "    elif(len(a[0])==5 and len(a[1])==4):\n",
    "        return(12*int((b[0]+b[1]))+int(b[6]))\n",
    "    elif(len(a[0])==4 and len(a[1])==5):\n",
    "        return(12*int(b[0])+int(b[5]+b[6]))\n",
    "    else:\n",
    "        return(12*int(b[0]+b[1])+int(b[5]+b[6]))"
   ]
  },
  {
   "cell_type": "code",
   "execution_count": 4,
   "metadata": {},
   "outputs": [
    {
     "data": {
      "text/plain": [
       "22"
      ]
     },
     "execution_count": 4,
     "metadata": {},
     "output_type": "execute_result"
    }
   ],
   "source": [
    "mapp('1yrs 10mon')"
   ]
  },
  {
   "cell_type": "code",
   "execution_count": 427,
   "metadata": {},
   "outputs": [],
   "source": [
    "train[\"avg_acct_age_mnths\"]=train[\"AVERAGE.ACCT.AGE\"].apply(lambda x : mapp(x))"
   ]
  },
  {
   "cell_type": "code",
   "execution_count": 428,
   "metadata": {},
   "outputs": [],
   "source": [
    "train[\"credit_history_mnths\"]=train[\"CREDIT.HISTORY.LENGTH\"].apply(lambda x : mapp(x))"
   ]
  },
  {
   "cell_type": "code",
   "execution_count": 429,
   "metadata": {},
   "outputs": [],
   "source": [
    "train[\"value\"]=train[\"asset_cost\"]* (train[\"ltv\"]/100)"
   ]
  },
  {
   "cell_type": "code",
   "execution_count": 430,
   "metadata": {},
   "outputs": [],
   "source": [
    "train[\"loan_interest_period\"]=train[\"credit_history_mnths\"]-train[\"avg_acct_age_mnths\"]"
   ]
  },
  {
   "cell_type": "code",
   "execution_count": 431,
   "metadata": {},
   "outputs": [
    {
     "data": {
      "text/plain": [
       "(233151, 45)"
      ]
     },
     "execution_count": 431,
     "metadata": {},
     "output_type": "execute_result"
    }
   ],
   "source": [
    "train.shape"
   ]
  },
  {
   "cell_type": "code",
   "execution_count": 432,
   "metadata": {},
   "outputs": [
    {
     "data": {
      "text/html": [
       "<div>\n",
       "<style scoped>\n",
       "    .dataframe tbody tr th:only-of-type {\n",
       "        vertical-align: middle;\n",
       "    }\n",
       "\n",
       "    .dataframe tbody tr th {\n",
       "        vertical-align: top;\n",
       "    }\n",
       "\n",
       "    .dataframe thead th {\n",
       "        text-align: right;\n",
       "    }\n",
       "</style>\n",
       "<table border=\"1\" class=\"dataframe\">\n",
       "  <thead>\n",
       "    <tr style=\"text-align: right;\">\n",
       "      <th></th>\n",
       "      <th>UniqueID</th>\n",
       "      <th>disbursed_amount</th>\n",
       "      <th>asset_cost</th>\n",
       "      <th>ltv</th>\n",
       "      <th>branch_id</th>\n",
       "      <th>supplier_id</th>\n",
       "      <th>manufacturer_id</th>\n",
       "      <th>Current_pincode_ID</th>\n",
       "      <th>Date.of.Birth</th>\n",
       "      <th>Employment.Type</th>\n",
       "      <th>DisbursalDate</th>\n",
       "      <th>State_ID</th>\n",
       "      <th>Employee_code_ID</th>\n",
       "      <th>MobileNo_Avl_Flag</th>\n",
       "      <th>Aadhar_flag</th>\n",
       "      <th>PAN_flag</th>\n",
       "      <th>VoterID_flag</th>\n",
       "      <th>Driving_flag</th>\n",
       "      <th>Passport_flag</th>\n",
       "      <th>PERFORM_CNS.SCORE</th>\n",
       "    </tr>\n",
       "  </thead>\n",
       "  <tbody>\n",
       "    <tr>\n",
       "      <th>0</th>\n",
       "      <td>420825</td>\n",
       "      <td>50578</td>\n",
       "      <td>58400</td>\n",
       "      <td>89.55</td>\n",
       "      <td>67</td>\n",
       "      <td>22807</td>\n",
       "      <td>45</td>\n",
       "      <td>1441</td>\n",
       "      <td>01-01-84</td>\n",
       "      <td>1.0</td>\n",
       "      <td>03-08-18</td>\n",
       "      <td>6</td>\n",
       "      <td>1998</td>\n",
       "      <td>1</td>\n",
       "      <td>1</td>\n",
       "      <td>0</td>\n",
       "      <td>0</td>\n",
       "      <td>0</td>\n",
       "      <td>0</td>\n",
       "      <td>0</td>\n",
       "    </tr>\n",
       "    <tr>\n",
       "      <th>1</th>\n",
       "      <td>537409</td>\n",
       "      <td>47145</td>\n",
       "      <td>65550</td>\n",
       "      <td>73.23</td>\n",
       "      <td>67</td>\n",
       "      <td>22807</td>\n",
       "      <td>45</td>\n",
       "      <td>1502</td>\n",
       "      <td>31-07-85</td>\n",
       "      <td>0.0</td>\n",
       "      <td>26-09-18</td>\n",
       "      <td>6</td>\n",
       "      <td>1998</td>\n",
       "      <td>1</td>\n",
       "      <td>1</td>\n",
       "      <td>0</td>\n",
       "      <td>0</td>\n",
       "      <td>0</td>\n",
       "      <td>0</td>\n",
       "      <td>598</td>\n",
       "    </tr>\n",
       "    <tr>\n",
       "      <th>2</th>\n",
       "      <td>417566</td>\n",
       "      <td>53278</td>\n",
       "      <td>61360</td>\n",
       "      <td>89.63</td>\n",
       "      <td>67</td>\n",
       "      <td>22807</td>\n",
       "      <td>45</td>\n",
       "      <td>1497</td>\n",
       "      <td>24-08-85</td>\n",
       "      <td>0.0</td>\n",
       "      <td>01-08-18</td>\n",
       "      <td>6</td>\n",
       "      <td>1998</td>\n",
       "      <td>1</td>\n",
       "      <td>1</td>\n",
       "      <td>0</td>\n",
       "      <td>0</td>\n",
       "      <td>0</td>\n",
       "      <td>0</td>\n",
       "      <td>0</td>\n",
       "    </tr>\n",
       "    <tr>\n",
       "      <th>3</th>\n",
       "      <td>624493</td>\n",
       "      <td>57513</td>\n",
       "      <td>66113</td>\n",
       "      <td>88.48</td>\n",
       "      <td>67</td>\n",
       "      <td>22807</td>\n",
       "      <td>45</td>\n",
       "      <td>1501</td>\n",
       "      <td>30-12-93</td>\n",
       "      <td>0.0</td>\n",
       "      <td>26-10-18</td>\n",
       "      <td>6</td>\n",
       "      <td>1998</td>\n",
       "      <td>1</td>\n",
       "      <td>1</td>\n",
       "      <td>0</td>\n",
       "      <td>0</td>\n",
       "      <td>0</td>\n",
       "      <td>0</td>\n",
       "      <td>305</td>\n",
       "    </tr>\n",
       "    <tr>\n",
       "      <th>4</th>\n",
       "      <td>539055</td>\n",
       "      <td>52378</td>\n",
       "      <td>60300</td>\n",
       "      <td>88.39</td>\n",
       "      <td>67</td>\n",
       "      <td>22807</td>\n",
       "      <td>45</td>\n",
       "      <td>1495</td>\n",
       "      <td>09-12-77</td>\n",
       "      <td>0.0</td>\n",
       "      <td>26-09-18</td>\n",
       "      <td>6</td>\n",
       "      <td>1998</td>\n",
       "      <td>1</td>\n",
       "      <td>1</td>\n",
       "      <td>0</td>\n",
       "      <td>0</td>\n",
       "      <td>0</td>\n",
       "      <td>0</td>\n",
       "      <td>0</td>\n",
       "    </tr>\n",
       "  </tbody>\n",
       "</table>\n",
       "</div>"
      ],
      "text/plain": [
       "   UniqueID  disbursed_amount  asset_cost    ltv  branch_id  supplier_id  \\\n",
       "0    420825             50578       58400  89.55         67        22807   \n",
       "1    537409             47145       65550  73.23         67        22807   \n",
       "2    417566             53278       61360  89.63         67        22807   \n",
       "3    624493             57513       66113  88.48         67        22807   \n",
       "4    539055             52378       60300  88.39         67        22807   \n",
       "\n",
       "   manufacturer_id  Current_pincode_ID Date.of.Birth  Employment.Type  \\\n",
       "0               45                1441      01-01-84              1.0   \n",
       "1               45                1502      31-07-85              0.0   \n",
       "2               45                1497      24-08-85              0.0   \n",
       "3               45                1501      30-12-93              0.0   \n",
       "4               45                1495      09-12-77              0.0   \n",
       "\n",
       "  DisbursalDate  State_ID  Employee_code_ID  MobileNo_Avl_Flag  Aadhar_flag  \\\n",
       "0      03-08-18         6              1998                  1            1   \n",
       "1      26-09-18         6              1998                  1            1   \n",
       "2      01-08-18         6              1998                  1            1   \n",
       "3      26-10-18         6              1998                  1            1   \n",
       "4      26-09-18         6              1998                  1            1   \n",
       "\n",
       "   PAN_flag  VoterID_flag  Driving_flag  Passport_flag  PERFORM_CNS.SCORE  \n",
       "0         0             0             0              0                  0  \n",
       "1         0             0             0              0                598  \n",
       "2         0             0             0              0                  0  \n",
       "3         0             0             0              0                305  \n",
       "4         0             0             0              0                  0  "
      ]
     },
     "execution_count": 432,
     "metadata": {},
     "output_type": "execute_result"
    }
   ],
   "source": [
    "train.iloc[:,0:20].head()"
   ]
  },
  {
   "cell_type": "code",
   "execution_count": 434,
   "metadata": {},
   "outputs": [
    {
     "data": {
      "text/html": [
       "<div>\n",
       "<style scoped>\n",
       "    .dataframe tbody tr th:only-of-type {\n",
       "        vertical-align: middle;\n",
       "    }\n",
       "\n",
       "    .dataframe tbody tr th {\n",
       "        vertical-align: top;\n",
       "    }\n",
       "\n",
       "    .dataframe thead th {\n",
       "        text-align: right;\n",
       "    }\n",
       "</style>\n",
       "<table border=\"1\" class=\"dataframe\">\n",
       "  <thead>\n",
       "    <tr style=\"text-align: right;\">\n",
       "      <th></th>\n",
       "      <th>PRI.NO.OF.ACCTS</th>\n",
       "      <th>PRI.ACTIVE.ACCTS</th>\n",
       "      <th>PRI.OVERDUE.ACCTS</th>\n",
       "      <th>PRI.CURRENT.BALANCE</th>\n",
       "      <th>PRI.SANCTIONED.AMOUNT</th>\n",
       "      <th>PRI.DISBURSED.AMOUNT</th>\n",
       "      <th>SEC.NO.OF.ACCTS</th>\n",
       "      <th>SEC.ACTIVE.ACCTS</th>\n",
       "      <th>SEC.OVERDUE.ACCTS</th>\n",
       "      <th>SEC.CURRENT.BALANCE</th>\n",
       "      <th>...</th>\n",
       "      <th>NEW.ACCTS.IN.LAST.SIX.MONTHS</th>\n",
       "      <th>DELINQUENT.ACCTS.IN.LAST.SIX.MONTHS</th>\n",
       "      <th>AVERAGE.ACCT.AGE</th>\n",
       "      <th>CREDIT.HISTORY.LENGTH</th>\n",
       "      <th>NO.OF_INQUIRIES</th>\n",
       "      <th>loan_default</th>\n",
       "      <th>avg_acct_age_mnths</th>\n",
       "      <th>credit_history_mnths</th>\n",
       "      <th>value</th>\n",
       "      <th>loan_interest_period</th>\n",
       "    </tr>\n",
       "  </thead>\n",
       "  <tbody>\n",
       "    <tr>\n",
       "      <th>0</th>\n",
       "      <td>0</td>\n",
       "      <td>0</td>\n",
       "      <td>0</td>\n",
       "      <td>0</td>\n",
       "      <td>0</td>\n",
       "      <td>0</td>\n",
       "      <td>0</td>\n",
       "      <td>0</td>\n",
       "      <td>0</td>\n",
       "      <td>0</td>\n",
       "      <td>...</td>\n",
       "      <td>0</td>\n",
       "      <td>0</td>\n",
       "      <td>0yrs 0mon</td>\n",
       "      <td>0yrs 0mon</td>\n",
       "      <td>0</td>\n",
       "      <td>0</td>\n",
       "      <td>0</td>\n",
       "      <td>0</td>\n",
       "      <td>52297.2000</td>\n",
       "      <td>0</td>\n",
       "    </tr>\n",
       "    <tr>\n",
       "      <th>1</th>\n",
       "      <td>1</td>\n",
       "      <td>1</td>\n",
       "      <td>1</td>\n",
       "      <td>27600</td>\n",
       "      <td>50200</td>\n",
       "      <td>50200</td>\n",
       "      <td>0</td>\n",
       "      <td>0</td>\n",
       "      <td>0</td>\n",
       "      <td>0</td>\n",
       "      <td>...</td>\n",
       "      <td>0</td>\n",
       "      <td>1</td>\n",
       "      <td>1yrs 11mon</td>\n",
       "      <td>1yrs 11mon</td>\n",
       "      <td>0</td>\n",
       "      <td>1</td>\n",
       "      <td>23</td>\n",
       "      <td>23</td>\n",
       "      <td>48002.2650</td>\n",
       "      <td>0</td>\n",
       "    </tr>\n",
       "    <tr>\n",
       "      <th>2</th>\n",
       "      <td>0</td>\n",
       "      <td>0</td>\n",
       "      <td>0</td>\n",
       "      <td>0</td>\n",
       "      <td>0</td>\n",
       "      <td>0</td>\n",
       "      <td>0</td>\n",
       "      <td>0</td>\n",
       "      <td>0</td>\n",
       "      <td>0</td>\n",
       "      <td>...</td>\n",
       "      <td>0</td>\n",
       "      <td>0</td>\n",
       "      <td>0yrs 0mon</td>\n",
       "      <td>0yrs 0mon</td>\n",
       "      <td>0</td>\n",
       "      <td>0</td>\n",
       "      <td>0</td>\n",
       "      <td>0</td>\n",
       "      <td>54996.9680</td>\n",
       "      <td>0</td>\n",
       "    </tr>\n",
       "    <tr>\n",
       "      <th>3</th>\n",
       "      <td>3</td>\n",
       "      <td>0</td>\n",
       "      <td>0</td>\n",
       "      <td>0</td>\n",
       "      <td>0</td>\n",
       "      <td>0</td>\n",
       "      <td>0</td>\n",
       "      <td>0</td>\n",
       "      <td>0</td>\n",
       "      <td>0</td>\n",
       "      <td>...</td>\n",
       "      <td>0</td>\n",
       "      <td>0</td>\n",
       "      <td>0yrs 8mon</td>\n",
       "      <td>1yrs 3mon</td>\n",
       "      <td>1</td>\n",
       "      <td>1</td>\n",
       "      <td>8</td>\n",
       "      <td>15</td>\n",
       "      <td>58496.7824</td>\n",
       "      <td>7</td>\n",
       "    </tr>\n",
       "    <tr>\n",
       "      <th>4</th>\n",
       "      <td>0</td>\n",
       "      <td>0</td>\n",
       "      <td>0</td>\n",
       "      <td>0</td>\n",
       "      <td>0</td>\n",
       "      <td>0</td>\n",
       "      <td>0</td>\n",
       "      <td>0</td>\n",
       "      <td>0</td>\n",
       "      <td>0</td>\n",
       "      <td>...</td>\n",
       "      <td>0</td>\n",
       "      <td>0</td>\n",
       "      <td>0yrs 0mon</td>\n",
       "      <td>0yrs 0mon</td>\n",
       "      <td>1</td>\n",
       "      <td>1</td>\n",
       "      <td>0</td>\n",
       "      <td>0</td>\n",
       "      <td>53299.1700</td>\n",
       "      <td>0</td>\n",
       "    </tr>\n",
       "  </tbody>\n",
       "</table>\n",
       "<p>5 rows × 24 columns</p>\n",
       "</div>"
      ],
      "text/plain": [
       "   PRI.NO.OF.ACCTS  PRI.ACTIVE.ACCTS  PRI.OVERDUE.ACCTS  PRI.CURRENT.BALANCE  \\\n",
       "0                0                 0                  0                    0   \n",
       "1                1                 1                  1                27600   \n",
       "2                0                 0                  0                    0   \n",
       "3                3                 0                  0                    0   \n",
       "4                0                 0                  0                    0   \n",
       "\n",
       "   PRI.SANCTIONED.AMOUNT  PRI.DISBURSED.AMOUNT  SEC.NO.OF.ACCTS  \\\n",
       "0                      0                     0                0   \n",
       "1                  50200                 50200                0   \n",
       "2                      0                     0                0   \n",
       "3                      0                     0                0   \n",
       "4                      0                     0                0   \n",
       "\n",
       "   SEC.ACTIVE.ACCTS  SEC.OVERDUE.ACCTS  SEC.CURRENT.BALANCE  \\\n",
       "0                 0                  0                    0   \n",
       "1                 0                  0                    0   \n",
       "2                 0                  0                    0   \n",
       "3                 0                  0                    0   \n",
       "4                 0                  0                    0   \n",
       "\n",
       "           ...           NEW.ACCTS.IN.LAST.SIX.MONTHS  \\\n",
       "0          ...                                      0   \n",
       "1          ...                                      0   \n",
       "2          ...                                      0   \n",
       "3          ...                                      0   \n",
       "4          ...                                      0   \n",
       "\n",
       "   DELINQUENT.ACCTS.IN.LAST.SIX.MONTHS  AVERAGE.ACCT.AGE  \\\n",
       "0                                    0         0yrs 0mon   \n",
       "1                                    1        1yrs 11mon   \n",
       "2                                    0         0yrs 0mon   \n",
       "3                                    0         0yrs 8mon   \n",
       "4                                    0         0yrs 0mon   \n",
       "\n",
       "   CREDIT.HISTORY.LENGTH  NO.OF_INQUIRIES  loan_default avg_acct_age_mnths  \\\n",
       "0              0yrs 0mon                0             0                  0   \n",
       "1             1yrs 11mon                0             1                 23   \n",
       "2              0yrs 0mon                0             0                  0   \n",
       "3              1yrs 3mon                1             1                  8   \n",
       "4              0yrs 0mon                1             1                  0   \n",
       "\n",
       "  credit_history_mnths       value  loan_interest_period  \n",
       "0                    0  52297.2000                     0  \n",
       "1                   23  48002.2650                     0  \n",
       "2                    0  54996.9680                     0  \n",
       "3                   15  58496.7824                     7  \n",
       "4                    0  53299.1700                     0  \n",
       "\n",
       "[5 rows x 24 columns]"
      ]
     },
     "execution_count": 434,
     "metadata": {},
     "output_type": "execute_result"
    }
   ],
   "source": [
    "train.iloc[:,21:].head(5)"
   ]
  },
  {
   "cell_type": "code",
   "execution_count": 199,
   "metadata": {},
   "outputs": [],
   "source": [
    "#train[\"AVERAGE.ACCT.AGE\"].unique()"
   ]
  },
  {
   "cell_type": "code",
   "execution_count": 366,
   "metadata": {},
   "outputs": [],
   "source": [
    "train1=train.drop([\"UniqueID\",\"branch_id\",\"supplier_id\",\"manufacturer_id\",\"Current_pincode_ID\",\"Date.of.Birth\",\"DisbursalDate\",\"State_ID\",\"Employee_code_ID\",\"AVERAGE.ACCT.AGE\",\"CREDIT.HISTORY.LENGTH\",\"Employment.Type\"],1)"
   ]
  },
  {
   "cell_type": "code",
   "execution_count": 367,
   "metadata": {},
   "outputs": [
    {
     "data": {
      "text/plain": [
       "(233151, 33)"
      ]
     },
     "execution_count": 367,
     "metadata": {},
     "output_type": "execute_result"
    }
   ],
   "source": [
    "train1.shape"
   ]
  },
  {
   "cell_type": "code",
   "execution_count": 368,
   "metadata": {},
   "outputs": [
    {
     "data": {
      "text/plain": [
       "(233151, 33)"
      ]
     },
     "execution_count": 368,
     "metadata": {},
     "output_type": "execute_result"
    }
   ],
   "source": [
    "train1.shape"
   ]
  },
  {
   "cell_type": "code",
   "execution_count": null,
   "metadata": {},
   "outputs": [],
   "source": []
  },
  {
   "cell_type": "code",
   "execution_count": 371,
   "metadata": {},
   "outputs": [
    {
     "data": {
      "text/html": [
       "<div>\n",
       "<style scoped>\n",
       "    .dataframe tbody tr th:only-of-type {\n",
       "        vertical-align: middle;\n",
       "    }\n",
       "\n",
       "    .dataframe tbody tr th {\n",
       "        vertical-align: top;\n",
       "    }\n",
       "\n",
       "    .dataframe thead th {\n",
       "        text-align: right;\n",
       "    }\n",
       "</style>\n",
       "<table border=\"1\" class=\"dataframe\">\n",
       "  <thead>\n",
       "    <tr style=\"text-align: right;\">\n",
       "      <th></th>\n",
       "      <th>disbursed_amount</th>\n",
       "      <th>asset_cost</th>\n",
       "      <th>ltv</th>\n",
       "      <th>MobileNo_Avl_Flag</th>\n",
       "      <th>Aadhar_flag</th>\n",
       "      <th>PAN_flag</th>\n",
       "      <th>VoterID_flag</th>\n",
       "      <th>Driving_flag</th>\n",
       "      <th>Passport_flag</th>\n",
       "      <th>PERFORM_CNS.SCORE</th>\n",
       "      <th>...</th>\n",
       "      <th>PRIMARY.INSTAL.AMT</th>\n",
       "      <th>SEC.INSTAL.AMT</th>\n",
       "      <th>NEW.ACCTS.IN.LAST.SIX.MONTHS</th>\n",
       "      <th>DELINQUENT.ACCTS.IN.LAST.SIX.MONTHS</th>\n",
       "      <th>NO.OF_INQUIRIES</th>\n",
       "      <th>loan_default</th>\n",
       "      <th>avg_acct_age_mnths</th>\n",
       "      <th>credit_history_mnths</th>\n",
       "      <th>value</th>\n",
       "      <th>loan_interest_period</th>\n",
       "    </tr>\n",
       "  </thead>\n",
       "  <tbody>\n",
       "    <tr>\n",
       "      <th>0</th>\n",
       "      <td>50578</td>\n",
       "      <td>58400</td>\n",
       "      <td>89.55</td>\n",
       "      <td>1</td>\n",
       "      <td>1</td>\n",
       "      <td>0</td>\n",
       "      <td>0</td>\n",
       "      <td>0</td>\n",
       "      <td>0</td>\n",
       "      <td>0</td>\n",
       "      <td>...</td>\n",
       "      <td>0</td>\n",
       "      <td>0</td>\n",
       "      <td>0</td>\n",
       "      <td>0</td>\n",
       "      <td>0</td>\n",
       "      <td>0</td>\n",
       "      <td>0</td>\n",
       "      <td>0</td>\n",
       "      <td>52297.2000</td>\n",
       "      <td>0</td>\n",
       "    </tr>\n",
       "    <tr>\n",
       "      <th>1</th>\n",
       "      <td>47145</td>\n",
       "      <td>65550</td>\n",
       "      <td>73.23</td>\n",
       "      <td>1</td>\n",
       "      <td>1</td>\n",
       "      <td>0</td>\n",
       "      <td>0</td>\n",
       "      <td>0</td>\n",
       "      <td>0</td>\n",
       "      <td>598</td>\n",
       "      <td>...</td>\n",
       "      <td>1991</td>\n",
       "      <td>0</td>\n",
       "      <td>0</td>\n",
       "      <td>1</td>\n",
       "      <td>0</td>\n",
       "      <td>1</td>\n",
       "      <td>23</td>\n",
       "      <td>23</td>\n",
       "      <td>48002.2650</td>\n",
       "      <td>0</td>\n",
       "    </tr>\n",
       "    <tr>\n",
       "      <th>2</th>\n",
       "      <td>53278</td>\n",
       "      <td>61360</td>\n",
       "      <td>89.63</td>\n",
       "      <td>1</td>\n",
       "      <td>1</td>\n",
       "      <td>0</td>\n",
       "      <td>0</td>\n",
       "      <td>0</td>\n",
       "      <td>0</td>\n",
       "      <td>0</td>\n",
       "      <td>...</td>\n",
       "      <td>0</td>\n",
       "      <td>0</td>\n",
       "      <td>0</td>\n",
       "      <td>0</td>\n",
       "      <td>0</td>\n",
       "      <td>0</td>\n",
       "      <td>0</td>\n",
       "      <td>0</td>\n",
       "      <td>54996.9680</td>\n",
       "      <td>0</td>\n",
       "    </tr>\n",
       "    <tr>\n",
       "      <th>3</th>\n",
       "      <td>57513</td>\n",
       "      <td>66113</td>\n",
       "      <td>88.48</td>\n",
       "      <td>1</td>\n",
       "      <td>1</td>\n",
       "      <td>0</td>\n",
       "      <td>0</td>\n",
       "      <td>0</td>\n",
       "      <td>0</td>\n",
       "      <td>305</td>\n",
       "      <td>...</td>\n",
       "      <td>31</td>\n",
       "      <td>0</td>\n",
       "      <td>0</td>\n",
       "      <td>0</td>\n",
       "      <td>1</td>\n",
       "      <td>1</td>\n",
       "      <td>8</td>\n",
       "      <td>15</td>\n",
       "      <td>58496.7824</td>\n",
       "      <td>7</td>\n",
       "    </tr>\n",
       "    <tr>\n",
       "      <th>4</th>\n",
       "      <td>52378</td>\n",
       "      <td>60300</td>\n",
       "      <td>88.39</td>\n",
       "      <td>1</td>\n",
       "      <td>1</td>\n",
       "      <td>0</td>\n",
       "      <td>0</td>\n",
       "      <td>0</td>\n",
       "      <td>0</td>\n",
       "      <td>0</td>\n",
       "      <td>...</td>\n",
       "      <td>0</td>\n",
       "      <td>0</td>\n",
       "      <td>0</td>\n",
       "      <td>0</td>\n",
       "      <td>1</td>\n",
       "      <td>1</td>\n",
       "      <td>0</td>\n",
       "      <td>0</td>\n",
       "      <td>53299.1700</td>\n",
       "      <td>0</td>\n",
       "    </tr>\n",
       "  </tbody>\n",
       "</table>\n",
       "<p>5 rows × 33 columns</p>\n",
       "</div>"
      ],
      "text/plain": [
       "   disbursed_amount  asset_cost    ltv  MobileNo_Avl_Flag  Aadhar_flag  \\\n",
       "0             50578       58400  89.55                  1            1   \n",
       "1             47145       65550  73.23                  1            1   \n",
       "2             53278       61360  89.63                  1            1   \n",
       "3             57513       66113  88.48                  1            1   \n",
       "4             52378       60300  88.39                  1            1   \n",
       "\n",
       "   PAN_flag  VoterID_flag  Driving_flag  Passport_flag  PERFORM_CNS.SCORE  \\\n",
       "0         0             0             0              0                  0   \n",
       "1         0             0             0              0                598   \n",
       "2         0             0             0              0                  0   \n",
       "3         0             0             0              0                305   \n",
       "4         0             0             0              0                  0   \n",
       "\n",
       "           ...          PRIMARY.INSTAL.AMT  SEC.INSTAL.AMT  \\\n",
       "0          ...                           0               0   \n",
       "1          ...                        1991               0   \n",
       "2          ...                           0               0   \n",
       "3          ...                          31               0   \n",
       "4          ...                           0               0   \n",
       "\n",
       "   NEW.ACCTS.IN.LAST.SIX.MONTHS  DELINQUENT.ACCTS.IN.LAST.SIX.MONTHS  \\\n",
       "0                             0                                    0   \n",
       "1                             0                                    1   \n",
       "2                             0                                    0   \n",
       "3                             0                                    0   \n",
       "4                             0                                    0   \n",
       "\n",
       "   NO.OF_INQUIRIES  loan_default  avg_acct_age_mnths  credit_history_mnths  \\\n",
       "0                0             0                   0                     0   \n",
       "1                0             1                  23                    23   \n",
       "2                0             0                   0                     0   \n",
       "3                1             1                   8                    15   \n",
       "4                1             1                   0                     0   \n",
       "\n",
       "        value  loan_interest_period  \n",
       "0  52297.2000                     0  \n",
       "1  48002.2650                     0  \n",
       "2  54996.9680                     0  \n",
       "3  58496.7824                     7  \n",
       "4  53299.1700                     0  \n",
       "\n",
       "[5 rows x 33 columns]"
      ]
     },
     "execution_count": 371,
     "metadata": {},
     "output_type": "execute_result"
    }
   ],
   "source": [
    "train1.head()"
   ]
  },
  {
   "cell_type": "code",
   "execution_count": 372,
   "metadata": {},
   "outputs": [],
   "source": [
    "label=train1[\"loan_default\"]"
   ]
  },
  {
   "cell_type": "code",
   "execution_count": null,
   "metadata": {},
   "outputs": [],
   "source": []
  },
  {
   "cell_type": "code",
   "execution_count": 373,
   "metadata": {},
   "outputs": [
    {
     "data": {
      "text/plain": [
       "19"
      ]
     },
     "execution_count": 373,
     "metadata": {},
     "output_type": "execute_result"
    }
   ],
   "source": [
    "#train[\"PERFORM_CNS.SCORE.DESCRIPTION\"]\n",
    "from sklearn import preprocessing\n",
    "le = preprocessing.LabelEncoder()\n",
    "len(train[\"PERFORM_CNS.SCORE.DESCRIPTION\"].unique())"
   ]
  },
  {
   "cell_type": "code",
   "execution_count": 374,
   "metadata": {},
   "outputs": [],
   "source": [
    "tr[\"PERFORM_CNS.SCORE.DESCRIPTION\"]=le.fit(tr[\"PERFORM_CNS.SCORE.DESCRIPTION\"])\n",
    "train1[\"PERFORM_CNS.SCORE.DESCRIPTION\"]=le.fit_transform(train1[\"PERFORM_CNS.SCORE.DESCRIPTION\"])"
   ]
  },
  {
   "cell_type": "code",
   "execution_count": null,
   "metadata": {},
   "outputs": [],
   "source": []
  },
  {
   "cell_type": "code",
   "execution_count": 375,
   "metadata": {},
   "outputs": [
    {
     "data": {
      "text/plain": [
       "array([1., 0.])"
      ]
     },
     "execution_count": 375,
     "metadata": {},
     "output_type": "execute_result"
    }
   ],
   "source": [
    "tr[\"Employment.Type\"].unique()"
   ]
  },
  {
   "cell_type": "code",
   "execution_count": null,
   "metadata": {},
   "outputs": [],
   "source": []
  },
  {
   "cell_type": "code",
   "execution_count": 376,
   "metadata": {},
   "outputs": [],
   "source": [
    "trr=train1.drop(labels=\"loan_default\",axis=1)"
   ]
  },
  {
   "cell_type": "code",
   "execution_count": 377,
   "metadata": {},
   "outputs": [],
   "source": [
    "from sklearn import preprocessing\n",
    "le = preprocessing.LabelEncoder()"
   ]
  },
  {
   "cell_type": "code",
   "execution_count": null,
   "metadata": {},
   "outputs": [],
   "source": []
  },
  {
   "cell_type": "code",
   "execution_count": 378,
   "metadata": {},
   "outputs": [],
   "source": [
    "from sklearn.model_selection import train_test_split\n",
    "\n",
    "X_train, X_test, y_train, y_test = train_test_split(trr, label, test_size=0.2, random_state=0)"
   ]
  },
  {
   "cell_type": "code",
   "execution_count": 379,
   "metadata": {},
   "outputs": [],
   "source": [
    "from imblearn.over_sampling import SMOTE\n",
    "from sklearn.tree import DecisionTreeClassifier\n",
    "from sklearn.neighbors import KNeighborsClassifier\n",
    "from sklearn.metrics import accuracy_score\n",
    "from sklearn import metrics"
   ]
  },
  {
   "cell_type": "code",
   "execution_count": 381,
   "metadata": {},
   "outputs": [
    {
     "data": {
      "text/plain": [
       "(186520, 32)"
      ]
     },
     "execution_count": 381,
     "metadata": {},
     "output_type": "execute_result"
    }
   ],
   "source": [
    "X_train.shape"
   ]
  },
  {
   "cell_type": "code",
   "execution_count": 212,
   "metadata": {},
   "outputs": [
    {
     "data": {
      "text/plain": [
       "array([13,  8, 11,  0, 16,  3, 12,  1,  2,  4,  7,  5, 10, 14, 18, 15,  6,\n",
       "        9, 17], dtype=int64)"
      ]
     },
     "execution_count": 212,
     "metadata": {},
     "output_type": "execute_result"
    }
   ],
   "source": [
    "trr[\"PERFORM_CNS.SCORE.DESCRIPTION\"].unique()"
   ]
  },
  {
   "cell_type": "code",
   "execution_count": 308,
   "metadata": {},
   "outputs": [
    {
     "data": {
      "text/plain": [
       "0.7403658510432973"
      ]
     },
     "execution_count": 308,
     "metadata": {},
     "output_type": "execute_result"
    }
   ],
   "source": [
    "DTClassifier= DecisionTreeClassifier (max_depth=22, min_samples_split =3,criterion='gini',min_samples_leaf=3)\n",
    "DTClassifier.fit(X_train,y_train)\n",
    "predicted_labels = DTClassifier.predict(X_test)\n",
    "DTClassifier.score(X_test, y_test)"
   ]
  },
  {
   "cell_type": "code",
   "execution_count": 128,
   "metadata": {},
   "outputs": [
    {
     "data": {
      "text/plain": [
       "RandomForestClassifier(bootstrap=True, class_weight='balanced',\n",
       "            criterion='gini', max_depth=None, max_features='auto',\n",
       "            max_leaf_nodes=None, min_impurity_decrease=0.0,\n",
       "            min_impurity_split=None, min_samples_leaf=1,\n",
       "            min_samples_split=2, min_weight_fraction_leaf=0.0,\n",
       "            n_estimators=500, n_jobs=-1, oob_score=False, random_state=1,\n",
       "            verbose=0, warm_start=False)"
      ]
     },
     "execution_count": 128,
     "metadata": {},
     "output_type": "execute_result"
    }
   ],
   "source": [
    "from sklearn.model_selection import train_test_split\n",
    "from sklearn.ensemble import RandomForestClassifier\n",
    "from sklearn.metrics import classification_report, confusion_matrix, roc_curve, make_scorer\n",
    "from tqdm import tqdm\n",
    "SEED = 1\n",
    "model_full_rf = RandomForestClassifier(n_estimators=500, class_weight='balanced', random_state=SEED, n_jobs=-1)\n",
    "model_full_rf.fit(X_train,y_train)"
   ]
  },
  {
   "cell_type": "code",
   "execution_count": 129,
   "metadata": {},
   "outputs": [
    {
     "data": {
      "text/plain": [
       "0.7602385862214239"
      ]
     },
     "execution_count": 129,
     "metadata": {},
     "output_type": "execute_result"
    }
   ],
   "source": [
    "model_full_rf.score(X_test, y_test)"
   ]
  },
  {
   "cell_type": "code",
   "execution_count": 334,
   "metadata": {},
   "outputs": [],
   "source": [
    "test=pd.read_csv(\"test_bqCt9Pv.csv\")"
   ]
  },
  {
   "cell_type": "code",
   "execution_count": 335,
   "metadata": {},
   "outputs": [
    {
     "data": {
      "text/plain": [
       "(112392, 40)"
      ]
     },
     "execution_count": 335,
     "metadata": {},
     "output_type": "execute_result"
    }
   ],
   "source": [
    "test.shape"
   ]
  },
  {
   "cell_type": "code",
   "execution_count": 336,
   "metadata": {},
   "outputs": [],
   "source": [
    "test[\"avg_acct_age_mnths\"]=test[\"AVERAGE.ACCT.AGE\"].apply(lambda x : mapp(x))"
   ]
  },
  {
   "cell_type": "code",
   "execution_count": 337,
   "metadata": {},
   "outputs": [],
   "source": [
    "test[\"credit_history_mnths\"]=test[\"CREDIT.HISTORY.LENGTH\"].apply(lambda x : mapp(x))"
   ]
  },
  {
   "cell_type": "code",
   "execution_count": 338,
   "metadata": {},
   "outputs": [],
   "source": [
    "test[\"value\"]=test[\"asset_cost\"]* (test[\"ltv\"]/100)"
   ]
  },
  {
   "cell_type": "code",
   "execution_count": 339,
   "metadata": {},
   "outputs": [],
   "source": [
    "test[\"loan_interest_period\"]=test[\"credit_history_mnths\"]-test[\"avg_acct_age_mnths\"]"
   ]
  },
  {
   "cell_type": "code",
   "execution_count": 359,
   "metadata": {},
   "outputs": [
    {
     "data": {
      "text/plain": [
       "(112392, 44)"
      ]
     },
     "execution_count": 359,
     "metadata": {},
     "output_type": "execute_result"
    }
   ],
   "source": [
    "test.shape\n"
   ]
  },
  {
   "cell_type": "code",
   "execution_count": 362,
   "metadata": {},
   "outputs": [],
   "source": [
    "test[\"PERFORM_CNS.SCORE.DESCRIPTION\"]=le.fit_transform(test[\"PERFORM_CNS.SCORE.DESCRIPTION\"])"
   ]
  },
  {
   "cell_type": "code",
   "execution_count": 363,
   "metadata": {},
   "outputs": [],
   "source": [
    "test1=test.drop([\"UniqueID\",\"branch_id\",\"supplier_id\",\"manufacturer_id\",\"Current_pincode_ID\",\"Date.of.Birth\",\"DisbursalDate\",\"State_ID\",\"Employee_code_ID\",\"AVERAGE.ACCT.AGE\",\"CREDIT.HISTORY.LENGTH\",\"Employment.Type\"],1)"
   ]
  },
  {
   "cell_type": "code",
   "execution_count": 382,
   "metadata": {},
   "outputs": [
    {
     "data": {
      "text/plain": [
       "((112392, 32), (233151, 33))"
      ]
     },
     "execution_count": 382,
     "metadata": {},
     "output_type": "execute_result"
    }
   ],
   "source": [
    "test1.shape , train1.shape"
   ]
  },
  {
   "cell_type": "code",
   "execution_count": 383,
   "metadata": {},
   "outputs": [
    {
     "data": {
      "text/plain": [
       "disbursed_amount                       0\n",
       "asset_cost                             0\n",
       "ltv                                    0\n",
       "MobileNo_Avl_Flag                      0\n",
       "Aadhar_flag                            0\n",
       "PAN_flag                               0\n",
       "VoterID_flag                           0\n",
       "Driving_flag                           0\n",
       "Passport_flag                          0\n",
       "PERFORM_CNS.SCORE                      0\n",
       "PERFORM_CNS.SCORE.DESCRIPTION          0\n",
       "PRI.NO.OF.ACCTS                        0\n",
       "PRI.ACTIVE.ACCTS                       0\n",
       "PRI.OVERDUE.ACCTS                      0\n",
       "PRI.CURRENT.BALANCE                    0\n",
       "PRI.SANCTIONED.AMOUNT                  0\n",
       "PRI.DISBURSED.AMOUNT                   0\n",
       "SEC.NO.OF.ACCTS                        0\n",
       "SEC.ACTIVE.ACCTS                       0\n",
       "SEC.OVERDUE.ACCTS                      0\n",
       "SEC.CURRENT.BALANCE                    0\n",
       "SEC.SANCTIONED.AMOUNT                  0\n",
       "SEC.DISBURSED.AMOUNT                   0\n",
       "PRIMARY.INSTAL.AMT                     0\n",
       "SEC.INSTAL.AMT                         0\n",
       "NEW.ACCTS.IN.LAST.SIX.MONTHS           0\n",
       "DELINQUENT.ACCTS.IN.LAST.SIX.MONTHS    0\n",
       "NO.OF_INQUIRIES                        0\n",
       "avg_acct_age_mnths                     0\n",
       "credit_history_mnths                   0\n",
       "value                                  0\n",
       "loan_interest_period                   0\n",
       "dtype: int64"
      ]
     },
     "execution_count": 383,
     "metadata": {},
     "output_type": "execute_result"
    }
   ],
   "source": [
    "test1.isnull().sum()"
   ]
  },
  {
   "cell_type": "code",
   "execution_count": 384,
   "metadata": {},
   "outputs": [
    {
     "data": {
      "text/plain": [
       "RandomForestClassifier(bootstrap=True, class_weight='balanced',\n",
       "            criterion='gini', max_depth=None, max_features='auto',\n",
       "            max_leaf_nodes=None, min_impurity_decrease=0.0,\n",
       "            min_impurity_split=None, min_samples_leaf=1,\n",
       "            min_samples_split=2, min_weight_fraction_leaf=0.0,\n",
       "            n_estimators=500, n_jobs=-1, oob_score=False, random_state=1,\n",
       "            verbose=0, warm_start=False)"
      ]
     },
     "execution_count": 384,
     "metadata": {},
     "output_type": "execute_result"
    }
   ],
   "source": [
    "from sklearn.model_selection import train_test_split\n",
    "from sklearn.ensemble import RandomForestClassifier\n",
    "from sklearn.metrics import classification_report, confusion_matrix, roc_curve, make_scorer\n",
    "from tqdm import tqdm\n",
    "SEED = 1\n",
    "model_full_rf = RandomForestClassifier(n_estimators=500, class_weight='balanced', random_state=SEED, n_jobs=-1)\n",
    "model_full_rf.fit(trr,label)"
   ]
  },
  {
   "cell_type": "code",
   "execution_count": 385,
   "metadata": {},
   "outputs": [],
   "source": [
    "predicted_labels =model_full_rf.predict(test1)"
   ]
  },
  {
   "cell_type": "code",
   "execution_count": 386,
   "metadata": {},
   "outputs": [
    {
     "data": {
      "text/plain": [
       "array([0, 0, 0, ..., 0, 0, 0], dtype=int64)"
      ]
     },
     "execution_count": 386,
     "metadata": {},
     "output_type": "execute_result"
    }
   ],
   "source": [
    "predicted_labels"
   ]
  },
  {
   "cell_type": "code",
   "execution_count": 387,
   "metadata": {},
   "outputs": [
    {
     "data": {
      "text/html": [
       "<div>\n",
       "<style scoped>\n",
       "    .dataframe tbody tr th:only-of-type {\n",
       "        vertical-align: middle;\n",
       "    }\n",
       "\n",
       "    .dataframe tbody tr th {\n",
       "        vertical-align: top;\n",
       "    }\n",
       "\n",
       "    .dataframe thead th {\n",
       "        text-align: right;\n",
       "    }\n",
       "</style>\n",
       "<table border=\"1\" class=\"dataframe\">\n",
       "  <thead>\n",
       "    <tr style=\"text-align: right;\">\n",
       "      <th></th>\n",
       "      <th>UniqueID</th>\n",
       "      <th>loan_default</th>\n",
       "    </tr>\n",
       "  </thead>\n",
       "  <tbody>\n",
       "    <tr>\n",
       "      <th>0</th>\n",
       "      <td>655269</td>\n",
       "      <td>0</td>\n",
       "    </tr>\n",
       "    <tr>\n",
       "      <th>1</th>\n",
       "      <td>723482</td>\n",
       "      <td>0</td>\n",
       "    </tr>\n",
       "    <tr>\n",
       "      <th>2</th>\n",
       "      <td>758529</td>\n",
       "      <td>0</td>\n",
       "    </tr>\n",
       "    <tr>\n",
       "      <th>3</th>\n",
       "      <td>763449</td>\n",
       "      <td>0</td>\n",
       "    </tr>\n",
       "    <tr>\n",
       "      <th>4</th>\n",
       "      <td>708663</td>\n",
       "      <td>0</td>\n",
       "    </tr>\n",
       "  </tbody>\n",
       "</table>\n",
       "</div>"
      ],
      "text/plain": [
       "   UniqueID  loan_default\n",
       "0    655269             0\n",
       "1    723482             0\n",
       "2    758529             0\n",
       "3    763449             0\n",
       "4    708663             0"
      ]
     },
     "execution_count": 387,
     "metadata": {},
     "output_type": "execute_result"
    }
   ],
   "source": [
    "sub1 = pd.DataFrame(pd.read_csv(\"sample_submission_24jSKY6.csv\")['UniqueID'])\n",
    "sub1['loan_default'] = predicted_labels\n",
    "sub1.to_csv(\"submission.csv\", index = False)\n",
    "sub1.head() "
   ]
  },
  {
   "cell_type": "code",
   "execution_count": 392,
   "metadata": {},
   "outputs": [],
   "source": [
    "from sklearn.metrics import mean_squared_error\n",
    "from sklearn.metrics import roc_auc_score\n",
    "from sklearn.model_selection import StratifiedKFold\n",
    "param = {\n",
    "    'bagging_freq': 5,\n",
    "    'bagging_fraction': 0.33,\n",
    "    'boost_from_average':'false',\n",
    "    'boost': 'gbdt',\n",
    "    'feature_fraction': 0.05,\n",
    "    'learning_rate': 0.01,\n",
    "    'max_depth': -1,\n",
    "    'metric':'auc',\n",
    "    'min_data_in_leaf': 80,\n",
    "    'min_sum_hessian_in_leaf': 10.0,\n",
    "    'num_leaves': 13,\n",
    "    'num_threads': 12,\n",
    "    'tree_learner': 'serial',\n",
    "    'objective': 'binary',\n",
    "    'verbosity': 1\n",
    "}"
   ]
  },
  {
   "cell_type": "code",
   "execution_count": 407,
   "metadata": {},
   "outputs": [],
   "source": [
    "features =[c for c in train1.columns if c not in ['loan_default']]\n",
    "target = train1['loan_default']"
   ]
  },
  {
   "cell_type": "code",
   "execution_count": 408,
   "metadata": {},
   "outputs": [],
   "source": [
    "num_round = 100000\n",
    "# check random state 44000\n",
    "folds = StratifiedKFold(n_splits=12, shuffle=False, random_state=12345)\n",
    "oof = np.zeros(len(train1))\n",
    "predictions = np.zeros(len(test1))"
   ]
  },
  {
   "cell_type": "code",
   "execution_count": 409,
   "metadata": {},
   "outputs": [
    {
     "name": "stdout",
     "output_type": "stream",
     "text": [
      "Fold 0\n",
      "Training until validation scores don't improve for 2500 rounds.\n",
      "[1000]\ttraining's auc: 0.632505\tvalid_1's auc: 0.624886\n",
      "[2000]\ttraining's auc: 0.636899\tvalid_1's auc: 0.627323\n",
      "[3000]\ttraining's auc: 0.640196\tvalid_1's auc: 0.62804\n",
      "[4000]\ttraining's auc: 0.642243\tvalid_1's auc: 0.628324\n",
      "[5000]\ttraining's auc: 0.644156\tvalid_1's auc: 0.628223\n",
      "[6000]\ttraining's auc: 0.645692\tvalid_1's auc: 0.627897\n",
      "Early stopping, best iteration is:\n",
      "[4041]\ttraining's auc: 0.642315\tvalid_1's auc: 0.628359\n",
      "Fold 1\n",
      "Training until validation scores don't improve for 2500 rounds.\n",
      "[1000]\ttraining's auc: 0.63268\tvalid_1's auc: 0.62152\n",
      "[2000]\ttraining's auc: 0.637122\tvalid_1's auc: 0.62378\n",
      "[3000]\ttraining's auc: 0.640398\tvalid_1's auc: 0.624818\n",
      "[4000]\ttraining's auc: 0.642495\tvalid_1's auc: 0.62554\n",
      "[5000]\ttraining's auc: 0.644418\tvalid_1's auc: 0.625767\n",
      "[6000]\ttraining's auc: 0.645902\tvalid_1's auc: 0.625603\n",
      "[7000]\ttraining's auc: 0.646946\tvalid_1's auc: 0.625397\n",
      "Early stopping, best iteration is:\n",
      "[4893]\ttraining's auc: 0.644242\tvalid_1's auc: 0.625791\n",
      "Fold 2\n",
      "Training until validation scores don't improve for 2500 rounds.\n",
      "[1000]\ttraining's auc: 0.632196\tvalid_1's auc: 0.624996\n",
      "[2000]\ttraining's auc: 0.636511\tvalid_1's auc: 0.628512\n",
      "[3000]\ttraining's auc: 0.639809\tvalid_1's auc: 0.630481\n",
      "[4000]\ttraining's auc: 0.641878\tvalid_1's auc: 0.631178\n",
      "[5000]\ttraining's auc: 0.643784\tvalid_1's auc: 0.631904\n",
      "[6000]\ttraining's auc: 0.645282\tvalid_1's auc: 0.632597\n",
      "[7000]\ttraining's auc: 0.646354\tvalid_1's auc: 0.632424\n",
      "[8000]\ttraining's auc: 0.647295\tvalid_1's auc: 0.632241\n",
      "[9000]\ttraining's auc: 0.648215\tvalid_1's auc: 0.63184\n",
      "Early stopping, best iteration is:\n",
      "[6609]\ttraining's auc: 0.645925\tvalid_1's auc: 0.632657\n",
      "Fold 3\n",
      "Training until validation scores don't improve for 2500 rounds.\n",
      "[1000]\ttraining's auc: 0.631983\tvalid_1's auc: 0.625334\n",
      "[2000]\ttraining's auc: 0.636456\tvalid_1's auc: 0.629766\n",
      "[3000]\ttraining's auc: 0.639889\tvalid_1's auc: 0.631083\n",
      "[4000]\ttraining's auc: 0.642051\tvalid_1's auc: 0.632038\n",
      "[5000]\ttraining's auc: 0.643971\tvalid_1's auc: 0.63223\n",
      "[6000]\ttraining's auc: 0.645585\tvalid_1's auc: 0.632122\n",
      "[7000]\ttraining's auc: 0.646755\tvalid_1's auc: 0.631353\n",
      "Early stopping, best iteration is:\n",
      "[5452]\ttraining's auc: 0.644796\tvalid_1's auc: 0.632393\n",
      "Fold 4\n",
      "Training until validation scores don't improve for 2500 rounds.\n",
      "[1000]\ttraining's auc: 0.632028\tvalid_1's auc: 0.629046\n",
      "[2000]\ttraining's auc: 0.636331\tvalid_1's auc: 0.630555\n",
      "[3000]\ttraining's auc: 0.639719\tvalid_1's auc: 0.631637\n",
      "[4000]\ttraining's auc: 0.641806\tvalid_1's auc: 0.632225\n",
      "[5000]\ttraining's auc: 0.643759\tvalid_1's auc: 0.632532\n",
      "[6000]\ttraining's auc: 0.645282\tvalid_1's auc: 0.632575\n",
      "[7000]\ttraining's auc: 0.646363\tvalid_1's auc: 0.632355\n",
      "[8000]\ttraining's auc: 0.647255\tvalid_1's auc: 0.632111\n",
      "Early stopping, best iteration is:\n",
      "[5714]\ttraining's auc: 0.644866\tvalid_1's auc: 0.632862\n",
      "Fold 5\n",
      "Training until validation scores don't improve for 2500 rounds.\n",
      "[1000]\ttraining's auc: 0.630607\tvalid_1's auc: 0.6421\n",
      "[2000]\ttraining's auc: 0.635099\tvalid_1's auc: 0.645288\n",
      "[3000]\ttraining's auc: 0.638361\tvalid_1's auc: 0.646834\n",
      "[4000]\ttraining's auc: 0.640505\tvalid_1's auc: 0.647102\n",
      "[5000]\ttraining's auc: 0.642383\tvalid_1's auc: 0.647481\n",
      "[6000]\ttraining's auc: 0.64388\tvalid_1's auc: 0.647372\n",
      "[7000]\ttraining's auc: 0.644964\tvalid_1's auc: 0.647288\n",
      "Early stopping, best iteration is:\n",
      "[5132]\ttraining's auc: 0.642615\tvalid_1's auc: 0.647536\n",
      "Fold 6\n",
      "Training until validation scores don't improve for 2500 rounds.\n",
      "[1000]\ttraining's auc: 0.631997\tvalid_1's auc: 0.624018\n",
      "[2000]\ttraining's auc: 0.636621\tvalid_1's auc: 0.627364\n",
      "[3000]\ttraining's auc: 0.639881\tvalid_1's auc: 0.629066\n",
      "[4000]\ttraining's auc: 0.641992\tvalid_1's auc: 0.630039\n",
      "[5000]\ttraining's auc: 0.643912\tvalid_1's auc: 0.630448\n",
      "[6000]\ttraining's auc: 0.645353\tvalid_1's auc: 0.630792\n",
      "[7000]\ttraining's auc: 0.646408\tvalid_1's auc: 0.63071\n",
      "[8000]\ttraining's auc: 0.647318\tvalid_1's auc: 0.630993\n",
      "[9000]\ttraining's auc: 0.648147\tvalid_1's auc: 0.630776\n",
      "[10000]\ttraining's auc: 0.648853\tvalid_1's auc: 0.630665\n",
      "Early stopping, best iteration is:\n",
      "[7957]\ttraining's auc: 0.647269\tvalid_1's auc: 0.631068\n",
      "Fold 7\n",
      "Training until validation scores don't improve for 2500 rounds.\n",
      "[1000]\ttraining's auc: 0.632396\tvalid_1's auc: 0.622048\n",
      "[2000]\ttraining's auc: 0.636752\tvalid_1's auc: 0.624117\n",
      "[3000]\ttraining's auc: 0.640052\tvalid_1's auc: 0.625822\n",
      "[4000]\ttraining's auc: 0.642238\tvalid_1's auc: 0.626491\n",
      "[5000]\ttraining's auc: 0.644182\tvalid_1's auc: 0.627107\n",
      "[6000]\ttraining's auc: 0.645684\tvalid_1's auc: 0.627169\n",
      "[7000]\ttraining's auc: 0.646772\tvalid_1's auc: 0.627299\n",
      "[8000]\ttraining's auc: 0.647721\tvalid_1's auc: 0.627237\n",
      "[9000]\ttraining's auc: 0.648581\tvalid_1's auc: 0.626765\n",
      "Early stopping, best iteration is:\n",
      "[6874]\ttraining's auc: 0.646672\tvalid_1's auc: 0.627334\n",
      "Fold 8\n",
      "Training until validation scores don't improve for 2500 rounds.\n",
      "[1000]\ttraining's auc: 0.632383\tvalid_1's auc: 0.617141\n",
      "[2000]\ttraining's auc: 0.636652\tvalid_1's auc: 0.620284\n",
      "[3000]\ttraining's auc: 0.639942\tvalid_1's auc: 0.62318\n",
      "[4000]\ttraining's auc: 0.641993\tvalid_1's auc: 0.624611\n",
      "[5000]\ttraining's auc: 0.643788\tvalid_1's auc: 0.625621\n",
      "[6000]\ttraining's auc: 0.645219\tvalid_1's auc: 0.626476\n",
      "[7000]\ttraining's auc: 0.646366\tvalid_1's auc: 0.626784\n",
      "[8000]\ttraining's auc: 0.647274\tvalid_1's auc: 0.626795\n",
      "[9000]\ttraining's auc: 0.64813\tvalid_1's auc: 0.626521\n",
      "[10000]\ttraining's auc: 0.648857\tvalid_1's auc: 0.626345\n",
      "Early stopping, best iteration is:\n",
      "[7597]\ttraining's auc: 0.64693\tvalid_1's auc: 0.62708\n",
      "Fold 9\n",
      "Training until validation scores don't improve for 2500 rounds.\n",
      "[1000]\ttraining's auc: 0.631777\tvalid_1's auc: 0.634519\n",
      "[2000]\ttraining's auc: 0.636162\tvalid_1's auc: 0.636276\n",
      "[3000]\ttraining's auc: 0.639622\tvalid_1's auc: 0.637808\n",
      "[4000]\ttraining's auc: 0.641744\tvalid_1's auc: 0.63811\n",
      "[5000]\ttraining's auc: 0.643645\tvalid_1's auc: 0.638014\n",
      "[6000]\ttraining's auc: 0.64511\tvalid_1's auc: 0.637354\n",
      "Early stopping, best iteration is:\n",
      "[4332]\ttraining's auc: 0.642435\tvalid_1's auc: 0.638356\n",
      "Fold 10\n",
      "Training until validation scores don't improve for 2500 rounds.\n",
      "[1000]\ttraining's auc: 0.633468\tvalid_1's auc: 0.608422\n",
      "[2000]\ttraining's auc: 0.63777\tvalid_1's auc: 0.6113\n",
      "[3000]\ttraining's auc: 0.641018\tvalid_1's auc: 0.613538\n",
      "[4000]\ttraining's auc: 0.643058\tvalid_1's auc: 0.614915\n",
      "[5000]\ttraining's auc: 0.644851\tvalid_1's auc: 0.616239\n",
      "[6000]\ttraining's auc: 0.646308\tvalid_1's auc: 0.617178\n",
      "[7000]\ttraining's auc: 0.647355\tvalid_1's auc: 0.617617\n",
      "[8000]\ttraining's auc: 0.648248\tvalid_1's auc: 0.617852\n",
      "[9000]\ttraining's auc: 0.649077\tvalid_1's auc: 0.617842\n",
      "[10000]\ttraining's auc: 0.649773\tvalid_1's auc: 0.617885\n",
      "[11000]\ttraining's auc: 0.650406\tvalid_1's auc: 0.617665\n",
      "[12000]\ttraining's auc: 0.650971\tvalid_1's auc: 0.617364\n",
      "Early stopping, best iteration is:\n",
      "[9800]\ttraining's auc: 0.649634\tvalid_1's auc: 0.617976\n",
      "Fold 11\n",
      "Training until validation scores don't improve for 2500 rounds.\n",
      "[1000]\ttraining's auc: 0.632329\tvalid_1's auc: 0.624878\n",
      "[2000]\ttraining's auc: 0.636814\tvalid_1's auc: 0.627535\n",
      "[3000]\ttraining's auc: 0.640184\tvalid_1's auc: 0.628592\n",
      "[4000]\ttraining's auc: 0.64226\tvalid_1's auc: 0.629068\n",
      "[5000]\ttraining's auc: 0.644134\tvalid_1's auc: 0.629536\n",
      "[6000]\ttraining's auc: 0.645628\tvalid_1's auc: 0.629547\n",
      "[7000]\ttraining's auc: 0.646741\tvalid_1's auc: 0.629424\n",
      "[8000]\ttraining's auc: 0.647663\tvalid_1's auc: 0.62929\n",
      "Early stopping, best iteration is:\n",
      "[5554]\ttraining's auc: 0.644986\tvalid_1's auc: 0.629792\n",
      "CV score: 0.63059 \n"
     ]
    }
   ],
   "source": [
    "for fold_, (trn_idx, val_idx) in enumerate(folds.split(train1.values, target.values)):\n",
    "    print(\"Fold {}\".format(fold_))\n",
    "    trn_data = lgb.Dataset(train1.iloc[trn_idx][features], label=target.iloc[trn_idx])\n",
    "    val_data = lgb.Dataset(train1.iloc[val_idx][features], label=target.iloc[val_idx])\n",
    "    clf = lgb.train(param, trn_data, num_round, valid_sets = [trn_data, val_data], verbose_eval=1000, early_stopping_rounds = 2500)\n",
    "    oof[val_idx] = clf.predict(train1.iloc[val_idx][features], num_iteration=clf.best_iteration)\n",
    "    predictions += clf.predict(test1[features], num_iteration=clf.best_iteration) / folds.n_splits\n",
    "print(\"CV score: {:<8.5f}\".format(roc_auc_score(label,oof)))"
   ]
  },
  {
   "cell_type": "code",
   "execution_count": 410,
   "metadata": {},
   "outputs": [
    {
     "data": {
      "text/html": [
       "<div>\n",
       "<style scoped>\n",
       "    .dataframe tbody tr th:only-of-type {\n",
       "        vertical-align: middle;\n",
       "    }\n",
       "\n",
       "    .dataframe tbody tr th {\n",
       "        vertical-align: top;\n",
       "    }\n",
       "\n",
       "    .dataframe thead th {\n",
       "        text-align: right;\n",
       "    }\n",
       "</style>\n",
       "<table border=\"1\" class=\"dataframe\">\n",
       "  <thead>\n",
       "    <tr style=\"text-align: right;\">\n",
       "      <th></th>\n",
       "      <th>UniqueID</th>\n",
       "      <th>loan_default</th>\n",
       "    </tr>\n",
       "  </thead>\n",
       "  <tbody>\n",
       "    <tr>\n",
       "      <th>0</th>\n",
       "      <td>655269</td>\n",
       "      <td>0.263066</td>\n",
       "    </tr>\n",
       "    <tr>\n",
       "      <th>1</th>\n",
       "      <td>723482</td>\n",
       "      <td>0.218884</td>\n",
       "    </tr>\n",
       "    <tr>\n",
       "      <th>2</th>\n",
       "      <td>758529</td>\n",
       "      <td>0.275124</td>\n",
       "    </tr>\n",
       "    <tr>\n",
       "      <th>3</th>\n",
       "      <td>763449</td>\n",
       "      <td>0.169627</td>\n",
       "    </tr>\n",
       "    <tr>\n",
       "      <th>4</th>\n",
       "      <td>708663</td>\n",
       "      <td>0.247775</td>\n",
       "    </tr>\n",
       "  </tbody>\n",
       "</table>\n",
       "</div>"
      ],
      "text/plain": [
       "   UniqueID  loan_default\n",
       "0    655269      0.263066\n",
       "1    723482      0.218884\n",
       "2    758529      0.275124\n",
       "3    763449      0.169627\n",
       "4    708663      0.247775"
      ]
     },
     "execution_count": 410,
     "metadata": {},
     "output_type": "execute_result"
    }
   ],
   "source": [
    "sub1 = pd.DataFrame(pd.read_csv(\"sample_submission_24jSKY6.csv\")['UniqueID'])\n",
    "sub1['loan_default'] = predictions\n",
    "sub1.to_csv(\"submission1.csv\", index = False)\n",
    "sub1.head() "
   ]
  },
  {
   "cell_type": "code",
   "execution_count": null,
   "metadata": {},
   "outputs": [],
   "source": []
  },
  {
   "cell_type": "code",
   "execution_count": null,
   "metadata": {},
   "outputs": [],
   "source": []
  },
  {
   "cell_type": "code",
   "execution_count": null,
   "metadata": {},
   "outputs": [],
   "source": []
  },
  {
   "cell_type": "code",
   "execution_count": null,
   "metadata": {},
   "outputs": [],
   "source": []
  }
 ],
 "metadata": {
  "kernelspec": {
   "display_name": "Python 3",
   "language": "python",
   "name": "python3"
  },
  "language_info": {
   "codemirror_mode": {
    "name": "ipython",
    "version": 3
   },
   "file_extension": ".py",
   "mimetype": "text/x-python",
   "name": "python",
   "nbconvert_exporter": "python",
   "pygments_lexer": "ipython3",
   "version": "3.6.7"
  }
 },
 "nbformat": 4,
 "nbformat_minor": 2
}
